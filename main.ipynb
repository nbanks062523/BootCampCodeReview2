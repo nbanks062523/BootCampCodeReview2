{
 "cells": [
  {
   "cell_type": "code",
   "execution_count": 25,
   "metadata": {},
   "outputs": [
    {
     "name": "stdout",
     "output_type": "stream",
     "text": [
      "['Bisque', 'PaleTurquoise', 'Aqua', 'ForestGreen', 'WhiteSmoke', 'CadetBlue', 'Indigo', 'MediumSpringGreen', 'PowderBlue', 'FireBrick', 'MistyRose', 'OldLace', 'DarkSalmon', 'RosyBrown', 'DeepSkyBlue', 'MediumOrchid', 'Turquoise', 'SlateGray', 'DarkViolet']\n"
     ]
    }
   ],
   "source": [
    "# Use the Faker module to generate a list of 20 colors\n",
    "from faker import Faker\n",
    "fake = Faker()\n",
    "\n",
    "color_list=[]\n",
    "\n",
    "def create_color_list(color):\n",
    "    for i in range(20):\n",
    "        color_name=fake.color_name()\n",
    "        color=f\"{color_name}\"\n",
    "        # Delete duplicates from color_list\n",
    "        if color not in color_list:\n",
    "            color_list.append(color)\n",
    "\n",
    "create_color_list(color_list)\n",
    "\n",
    "print(color_list)"
   ]
  },
  {
   "cell_type": "code",
   "execution_count": 35,
   "metadata": {},
   "outputs": [
    {
     "name": "stdout",
     "output_type": "stream",
     "text": [
      "{'Bisque': 6, 'PaleTurquoise': 13, 'Aqua': 4, 'ForestGreen': 11, 'WhiteSmoke': 10, 'CadetBlue': 9, 'Indigo': 6, 'MediumSpringGreen': 17, 'PowderBlue': 10, 'FireBrick': 9, 'MistyRose': 9, 'OldLace': 7, 'DarkSalmon': 10, 'RosyBrown': 9, 'DeepSkyBlue': 11, 'MediumOrchid': 12, 'Turquoise': 9, 'SlateGray': 9, 'DarkViolet': 10}\n"
     ]
    }
   ],
   "source": [
    "# Write a function that creates a dictionary from color_list\n",
    "\n",
    "def random_colors(color_list):\n",
    "    empty_dict={}\n",
    "    for color in color_list:\n",
    "        empty_dict[color]=len(color)\n",
    "    return empty_dict\n",
    "\n",
    "color_dict= random_colors(color_list)\n",
    "print(color_dict)"
   ]
  }
 ],
 "metadata": {
  "kernelspec": {
   "display_name": "venv",
   "language": "python",
   "name": "python3"
  },
  "language_info": {
   "codemirror_mode": {
    "name": "ipython",
    "version": 3
   },
   "file_extension": ".py",
   "mimetype": "text/x-python",
   "name": "python",
   "nbconvert_exporter": "python",
   "pygments_lexer": "ipython3",
   "version": "3.7.17"
  }
 },
 "nbformat": 4,
 "nbformat_minor": 2
}
